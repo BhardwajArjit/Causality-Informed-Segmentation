{
  "nbformat": 4,
  "nbformat_minor": 0,
  "metadata": {
    "colab": {
      "provenance": [],
      "authorship_tag": "ABX9TyNAMX0yDbIi6Qetkllb1Ply",
      "include_colab_link": true
    },
    "kernelspec": {
      "name": "python3",
      "display_name": "Python 3"
    },
    "language_info": {
      "name": "python"
    }
  },
  "cells": [
    {
      "cell_type": "markdown",
      "metadata": {
        "id": "view-in-github",
        "colab_type": "text"
      },
      "source": [
        "<a href=\"https://colab.research.google.com/github/BhardwajArjit/Causality-Informed-Segmentation/blob/main/DeepLabv3.ipynb\" target=\"_parent\"><img src=\"https://colab.research.google.com/assets/colab-badge.svg\" alt=\"Open In Colab\"/></a>"
      ]
    },
    {
      "cell_type": "code",
      "execution_count": 11,
      "metadata": {
        "id": "Uw5kZf3hCmhd"
      },
      "outputs": [],
      "source": [
        "import torch\n",
        "from torch import nn\n",
        "from torch.nn import functional as F\n",
        "from copy import deepcopy"
      ]
    },
    {
      "cell_type": "code",
      "source": [
        "class AtrousSeparableConvolution(nn.Sequential):\n",
        "    def __init__(self, in_channels, out_channels, kernel_size,\n",
        "                 stride=1, padding=0, dilation=1, bias=True,add_norm=True):\n",
        "        modules=[]\n",
        "        modules.append(nn.Conv2d(in_channels, in_channels, kernel_size=kernel_size,\n",
        "                                 stride=stride, padding=padding, dilation=dilation,\n",
        "                                 bias=(not add_norm), groups=in_channels))\n",
        "        if add_norm:\n",
        "            modules.append(nn.BatchNorm2d(in_channels))\n",
        "            modules.append(nn.ReLU(inplace=True))\n",
        "        modules.append(nn.Conv2d(in_channels, out_channels, kernel_size=1, stride=1,\n",
        "                                 padding=0, bias=bias))\n",
        "        super().__init__(*modules)"
      ],
      "metadata": {
        "id": "qA1o317pDMWn"
      },
      "execution_count": 12,
      "outputs": []
    },
    {
      "cell_type": "code",
      "source": [
        "class DeepLabHead(nn.Sequential):\n",
        "    def __init__(self, in_channels, num_classes,output_stride):\n",
        "        base_rates=[3,6,9]\n",
        "        mul=32//output_stride\n",
        "        rates=[x*mul for x in base_rates]\n",
        "        super().__init__(\n",
        "            ASPP(in_channels, rates),\n",
        "            nn.Conv2d(256, 256, 3, padding=1, bias=False),\n",
        "            nn.BatchNorm2d(256),\n",
        "            nn.ReLU(inplace=True),\n",
        "            nn.Conv2d(256, num_classes, 1)\n",
        "        )"
      ],
      "metadata": {
        "id": "apiJ-NzsDaEa"
      },
      "execution_count": 13,
      "outputs": []
    },
    {
      "cell_type": "code",
      "source": [
        "class DeepLabHeadNoASSP(nn.Sequential):\n",
        "    def __init__(self, in_channels, num_classes):\n",
        "        super().__init__(\n",
        "            ASPP(in_channels, []),\n",
        "            nn.Conv2d(256, num_classes, 1)\n",
        "        )"
      ],
      "metadata": {
        "id": "WeChm-5IDd8i"
      },
      "execution_count": 14,
      "outputs": []
    },
    {
      "cell_type": "code",
      "source": [
        "def get_ASSP(in_channels,output_stride,output_channels=256):\n",
        "    base_rates = [3, 6, 9]\n",
        "    mul = 32 // output_stride\n",
        "    rates = [x * mul for x in base_rates]\n",
        "    return ASPP(in_channels, rates,output_channels)"
      ],
      "metadata": {
        "id": "ikWLJR-IDiRh"
      },
      "execution_count": 15,
      "outputs": []
    },
    {
      "cell_type": "code",
      "source": [
        "class ASPPConv(nn.Sequential):\n",
        "    def __init__(self, in_channels, out_channels, dilation):\n",
        "        modules = [\n",
        "            nn.Conv2d(in_channels, out_channels, 3, padding=dilation, dilation=dilation, bias=False),\n",
        "            nn.BatchNorm2d(out_channels),\n",
        "            nn.ReLU(inplace=True)\n",
        "        ]\n",
        "        super(ASPPConv, self).__init__(*modules)"
      ],
      "metadata": {
        "id": "hReFpP5iDmil"
      },
      "execution_count": 16,
      "outputs": []
    },
    {
      "cell_type": "code",
      "source": [
        "class ASPPPooling(nn.Sequential):\n",
        "    def __init__(self, in_channels, out_channels):\n",
        "        super(ASPPPooling, self).__init__(\n",
        "            nn.AdaptiveAvgPool2d(1),\n",
        "            nn.Conv2d(in_channels, out_channels, 1, bias=False),\n",
        "            nn.BatchNorm2d(out_channels),\n",
        "            nn.ReLU(inplace=True))\n",
        "\n",
        "    def forward(self, x):\n",
        "        size = x.shape[-2:]\n",
        "        for mod in self:\n",
        "            x = mod(x)\n",
        "        return F.interpolate(x, size=size, mode='bilinear', align_corners=False)"
      ],
      "metadata": {
        "id": "jIzip90CDukX"
      },
      "execution_count": 17,
      "outputs": []
    },
    {
      "cell_type": "code",
      "source": [
        "class ASPP(nn.Module):\n",
        "    def __init__(self, in_channels, atrous_rates, out_channels=256,intermediate_channels=256,dropout=0.5):\n",
        "        super(ASPP, self).__init__()\n",
        "        modules = []\n",
        "        modules.append(nn.Sequential(\n",
        "            nn.Conv2d(in_channels, intermediate_channels, 1, bias=False),\n",
        "            nn.BatchNorm2d(intermediate_channels),\n",
        "            nn.ReLU(inplace=True)))\n",
        "\n",
        "        rates = tuple(atrous_rates)\n",
        "        for rate in rates:\n",
        "            modules.append(ASPPConv(in_channels, intermediate_channels, rate))\n",
        "\n",
        "        modules.append(ASPPPooling(in_channels, intermediate_channels))\n",
        "\n",
        "        self.convs = nn.ModuleList(modules)\n",
        "        num_branches=len(self.convs)\n",
        "        self.project = nn.Sequential(\n",
        "            nn.Conv2d(num_branches * intermediate_channels, out_channels, 1, bias=False),\n",
        "            nn.BatchNorm2d(out_channels),\n",
        "            nn.ReLU(inplace=True),\n",
        "            nn.Dropout(dropout))\n",
        "\n",
        "    def forward(self, x):\n",
        "        res = []\n",
        "        for conv in self.convs:\n",
        "            res.append(conv(x))\n",
        "        res = torch.cat(res, dim=1)\n",
        "        return self.project(res)"
      ],
      "metadata": {
        "id": "eqWk9AYlD382"
      },
      "execution_count": 18,
      "outputs": []
    },
    {
      "cell_type": "code",
      "source": [
        "def convert_to_separable_conv(module,deep_copy=True):\n",
        "    new_module=module\n",
        "    if deep_copy:\n",
        "        new_module = deepcopy(module)\n",
        "    if isinstance(module, nn.Conv2d) and module.kernel_size[0]>1 and module.groups == 1:\n",
        "        new_module = AtrousSeparableConvolution(\n",
        "            module.in_channels,\n",
        "            module.out_channels,\n",
        "            module.kernel_size,\n",
        "            module.stride,\n",
        "            module.padding,\n",
        "            module.dilation,\n",
        "            module.bias is not None)\n",
        "    for name, child in new_module.named_children():\n",
        "        new_module.add_module(name, convert_to_separable_conv(child,deep_copy=False))\n",
        "    return new_module"
      ],
      "metadata": {
        "id": "O8WlPXmnD7DU"
      },
      "execution_count": 19,
      "outputs": []
    },
    {
      "cell_type": "code",
      "source": [
        "module=nn.Conv2d(5,5,1,bias=False)\n",
        "print(module.in_channels,\n",
        "      module.out_channels,\n",
        "      module.kernel_size,\n",
        "      module.stride,\n",
        "      module.padding,\n",
        "      module.dilation,\n",
        "      module.bias is not None)"
      ],
      "metadata": {
        "colab": {
          "base_uri": "https://localhost:8080/"
        },
        "id": "rgXnQOTOD83X",
        "outputId": "437e1c43-2b7c-4cc1-d5fc-b7d0a4a7d5e4"
      },
      "execution_count": 20,
      "outputs": [
        {
          "output_type": "stream",
          "name": "stdout",
          "text": [
            "5 5 (1, 1) (1, 1) (0, 0) (1, 1) False\n"
          ]
        }
      ]
    },
    {
      "cell_type": "code",
      "source": [],
      "metadata": {
        "id": "6cVNS72hYgU2"
      },
      "execution_count": null,
      "outputs": []
    }
  ]
}