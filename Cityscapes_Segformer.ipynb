{
  "nbformat": 4,
  "nbformat_minor": 0,
  "metadata": {
    "colab": {
      "provenance": [],
      "gpuType": "T4",
      "authorship_tag": "ABX9TyM4AbF2SLgBoB+KjnWkTasz",
      "include_colab_link": true
    },
    "kernelspec": {
      "name": "python3",
      "display_name": "Python 3"
    },
    "language_info": {
      "name": "python"
    },
    "accelerator": "GPU",
    "widgets": {
      "application/vnd.jupyter.widget-state+json": {
        "de89f36f63604e95bfa9607de0afed28": {
          "model_module": "@jupyter-widgets/controls",
          "model_name": "HBoxModel",
          "model_module_version": "1.5.0",
          "state": {
            "_dom_classes": [],
            "_model_module": "@jupyter-widgets/controls",
            "_model_module_version": "1.5.0",
            "_model_name": "HBoxModel",
            "_view_count": null,
            "_view_module": "@jupyter-widgets/controls",
            "_view_module_version": "1.5.0",
            "_view_name": "HBoxView",
            "box_style": "",
            "children": [
              "IPY_MODEL_a8fff683a08d462e88abdbd2109b53da",
              "IPY_MODEL_fda407836b0347938e44cffd8819ac7e",
              "IPY_MODEL_612075b59f814378b05928f989fcb8ea"
            ],
            "layout": "IPY_MODEL_7baf5825618648008b7fbf48da396c62"
          }
        },
        "a8fff683a08d462e88abdbd2109b53da": {
          "model_module": "@jupyter-widgets/controls",
          "model_name": "HTMLModel",
          "model_module_version": "1.5.0",
          "state": {
            "_dom_classes": [],
            "_model_module": "@jupyter-widgets/controls",
            "_model_module_version": "1.5.0",
            "_model_name": "HTMLModel",
            "_view_count": null,
            "_view_module": "@jupyter-widgets/controls",
            "_view_module_version": "1.5.0",
            "_view_name": "HTMLView",
            "description": "",
            "description_tooltip": null,
            "layout": "IPY_MODEL_8ec298e53487447d9cf4333245905711",
            "placeholder": "​",
            "style": "IPY_MODEL_983d93348af44e70acab3a4337f00c5b",
            "value": "  0%"
          }
        },
        "fda407836b0347938e44cffd8819ac7e": {
          "model_module": "@jupyter-widgets/controls",
          "model_name": "FloatProgressModel",
          "model_module_version": "1.5.0",
          "state": {
            "_dom_classes": [],
            "_model_module": "@jupyter-widgets/controls",
            "_model_module_version": "1.5.0",
            "_model_name": "FloatProgressModel",
            "_view_count": null,
            "_view_module": "@jupyter-widgets/controls",
            "_view_module_version": "1.5.0",
            "_view_name": "ProgressView",
            "bar_style": "danger",
            "description": "",
            "description_tooltip": null,
            "layout": "IPY_MODEL_be4d088331bf4d899e73d8bbbb1cd4d0",
            "max": 1488,
            "min": 0,
            "orientation": "horizontal",
            "style": "IPY_MODEL_fec8a320a7934002bcc272e7afcdd3a3",
            "value": 0
          }
        },
        "612075b59f814378b05928f989fcb8ea": {
          "model_module": "@jupyter-widgets/controls",
          "model_name": "HTMLModel",
          "model_module_version": "1.5.0",
          "state": {
            "_dom_classes": [],
            "_model_module": "@jupyter-widgets/controls",
            "_model_module_version": "1.5.0",
            "_model_name": "HTMLModel",
            "_view_count": null,
            "_view_module": "@jupyter-widgets/controls",
            "_view_module_version": "1.5.0",
            "_view_name": "HTMLView",
            "description": "",
            "description_tooltip": null,
            "layout": "IPY_MODEL_06759f47148d40f48ee3f2f32619272f",
            "placeholder": "​",
            "style": "IPY_MODEL_4d70229395b24492a1c9ed32d050b974",
            "value": " 0/1488 [00:00&lt;?, ?it/s]"
          }
        },
        "7baf5825618648008b7fbf48da396c62": {
          "model_module": "@jupyter-widgets/base",
          "model_name": "LayoutModel",
          "model_module_version": "1.2.0",
          "state": {
            "_model_module": "@jupyter-widgets/base",
            "_model_module_version": "1.2.0",
            "_model_name": "LayoutModel",
            "_view_count": null,
            "_view_module": "@jupyter-widgets/base",
            "_view_module_version": "1.2.0",
            "_view_name": "LayoutView",
            "align_content": null,
            "align_items": null,
            "align_self": null,
            "border": null,
            "bottom": null,
            "display": null,
            "flex": null,
            "flex_flow": null,
            "grid_area": null,
            "grid_auto_columns": null,
            "grid_auto_flow": null,
            "grid_auto_rows": null,
            "grid_column": null,
            "grid_gap": null,
            "grid_row": null,
            "grid_template_areas": null,
            "grid_template_columns": null,
            "grid_template_rows": null,
            "height": null,
            "justify_content": null,
            "justify_items": null,
            "left": null,
            "margin": null,
            "max_height": null,
            "max_width": null,
            "min_height": null,
            "min_width": null,
            "object_fit": null,
            "object_position": null,
            "order": null,
            "overflow": null,
            "overflow_x": null,
            "overflow_y": null,
            "padding": null,
            "right": null,
            "top": null,
            "visibility": null,
            "width": null
          }
        },
        "8ec298e53487447d9cf4333245905711": {
          "model_module": "@jupyter-widgets/base",
          "model_name": "LayoutModel",
          "model_module_version": "1.2.0",
          "state": {
            "_model_module": "@jupyter-widgets/base",
            "_model_module_version": "1.2.0",
            "_model_name": "LayoutModel",
            "_view_count": null,
            "_view_module": "@jupyter-widgets/base",
            "_view_module_version": "1.2.0",
            "_view_name": "LayoutView",
            "align_content": null,
            "align_items": null,
            "align_self": null,
            "border": null,
            "bottom": null,
            "display": null,
            "flex": null,
            "flex_flow": null,
            "grid_area": null,
            "grid_auto_columns": null,
            "grid_auto_flow": null,
            "grid_auto_rows": null,
            "grid_column": null,
            "grid_gap": null,
            "grid_row": null,
            "grid_template_areas": null,
            "grid_template_columns": null,
            "grid_template_rows": null,
            "height": null,
            "justify_content": null,
            "justify_items": null,
            "left": null,
            "margin": null,
            "max_height": null,
            "max_width": null,
            "min_height": null,
            "min_width": null,
            "object_fit": null,
            "object_position": null,
            "order": null,
            "overflow": null,
            "overflow_x": null,
            "overflow_y": null,
            "padding": null,
            "right": null,
            "top": null,
            "visibility": null,
            "width": null
          }
        },
        "983d93348af44e70acab3a4337f00c5b": {
          "model_module": "@jupyter-widgets/controls",
          "model_name": "DescriptionStyleModel",
          "model_module_version": "1.5.0",
          "state": {
            "_model_module": "@jupyter-widgets/controls",
            "_model_module_version": "1.5.0",
            "_model_name": "DescriptionStyleModel",
            "_view_count": null,
            "_view_module": "@jupyter-widgets/base",
            "_view_module_version": "1.2.0",
            "_view_name": "StyleView",
            "description_width": ""
          }
        },
        "be4d088331bf4d899e73d8bbbb1cd4d0": {
          "model_module": "@jupyter-widgets/base",
          "model_name": "LayoutModel",
          "model_module_version": "1.2.0",
          "state": {
            "_model_module": "@jupyter-widgets/base",
            "_model_module_version": "1.2.0",
            "_model_name": "LayoutModel",
            "_view_count": null,
            "_view_module": "@jupyter-widgets/base",
            "_view_module_version": "1.2.0",
            "_view_name": "LayoutView",
            "align_content": null,
            "align_items": null,
            "align_self": null,
            "border": null,
            "bottom": null,
            "display": null,
            "flex": null,
            "flex_flow": null,
            "grid_area": null,
            "grid_auto_columns": null,
            "grid_auto_flow": null,
            "grid_auto_rows": null,
            "grid_column": null,
            "grid_gap": null,
            "grid_row": null,
            "grid_template_areas": null,
            "grid_template_columns": null,
            "grid_template_rows": null,
            "height": null,
            "justify_content": null,
            "justify_items": null,
            "left": null,
            "margin": null,
            "max_height": null,
            "max_width": null,
            "min_height": null,
            "min_width": null,
            "object_fit": null,
            "object_position": null,
            "order": null,
            "overflow": null,
            "overflow_x": null,
            "overflow_y": null,
            "padding": null,
            "right": null,
            "top": null,
            "visibility": null,
            "width": null
          }
        },
        "fec8a320a7934002bcc272e7afcdd3a3": {
          "model_module": "@jupyter-widgets/controls",
          "model_name": "ProgressStyleModel",
          "model_module_version": "1.5.0",
          "state": {
            "_model_module": "@jupyter-widgets/controls",
            "_model_module_version": "1.5.0",
            "_model_name": "ProgressStyleModel",
            "_view_count": null,
            "_view_module": "@jupyter-widgets/base",
            "_view_module_version": "1.2.0",
            "_view_name": "StyleView",
            "bar_color": null,
            "description_width": ""
          }
        },
        "06759f47148d40f48ee3f2f32619272f": {
          "model_module": "@jupyter-widgets/base",
          "model_name": "LayoutModel",
          "model_module_version": "1.2.0",
          "state": {
            "_model_module": "@jupyter-widgets/base",
            "_model_module_version": "1.2.0",
            "_model_name": "LayoutModel",
            "_view_count": null,
            "_view_module": "@jupyter-widgets/base",
            "_view_module_version": "1.2.0",
            "_view_name": "LayoutView",
            "align_content": null,
            "align_items": null,
            "align_self": null,
            "border": null,
            "bottom": null,
            "display": null,
            "flex": null,
            "flex_flow": null,
            "grid_area": null,
            "grid_auto_columns": null,
            "grid_auto_flow": null,
            "grid_auto_rows": null,
            "grid_column": null,
            "grid_gap": null,
            "grid_row": null,
            "grid_template_areas": null,
            "grid_template_columns": null,
            "grid_template_rows": null,
            "height": null,
            "justify_content": null,
            "justify_items": null,
            "left": null,
            "margin": null,
            "max_height": null,
            "max_width": null,
            "min_height": null,
            "min_width": null,
            "object_fit": null,
            "object_position": null,
            "order": null,
            "overflow": null,
            "overflow_x": null,
            "overflow_y": null,
            "padding": null,
            "right": null,
            "top": null,
            "visibility": null,
            "width": null
          }
        },
        "4d70229395b24492a1c9ed32d050b974": {
          "model_module": "@jupyter-widgets/controls",
          "model_name": "DescriptionStyleModel",
          "model_module_version": "1.5.0",
          "state": {
            "_model_module": "@jupyter-widgets/controls",
            "_model_module_version": "1.5.0",
            "_model_name": "DescriptionStyleModel",
            "_view_count": null,
            "_view_module": "@jupyter-widgets/base",
            "_view_module_version": "1.2.0",
            "_view_name": "StyleView",
            "description_width": ""
          }
        }
      }
    }
  },
  "cells": [
    {
      "cell_type": "markdown",
      "metadata": {
        "id": "view-in-github",
        "colab_type": "text"
      },
      "source": [
        "<a href=\"https://colab.research.google.com/github/BhardwajArjit/Causality-Informed-Segmentation/blob/main/Cityscapes_Segformer.ipynb\" target=\"_parent\"><img src=\"https://colab.research.google.com/assets/colab-badge.svg\" alt=\"Open In Colab\"/></a>"
      ]
    },
    {
      "cell_type": "markdown",
      "source": [
        "## 0. Get setup"
      ],
      "metadata": {
        "id": "EX1uP_tGHArQ"
      }
    },
    {
      "cell_type": "code",
      "execution_count": 5,
      "metadata": {
        "colab": {
          "base_uri": "https://localhost:8080/"
        },
        "id": "uvIbpZJ1315B",
        "outputId": "ac846333-a5e5-4352-b1f3-d705dee5b7da"
      },
      "outputs": [
        {
          "output_type": "stream",
          "name": "stdout",
          "text": [
            "Collecting einops\n",
            "  Downloading einops-0.7.0-py3-none-any.whl (44 kB)\n",
            "\u001b[?25l     \u001b[90m━━━━━━━━━━━━━━━━━━━━━━━━━━━━━━━━━━━━━━━━\u001b[0m \u001b[32m0.0/44.6 kB\u001b[0m \u001b[31m?\u001b[0m eta \u001b[36m-:--:--\u001b[0m\r\u001b[2K     \u001b[90m━━━━━━━━━━━━━━━━━━━━━━━━━━━━━━━━━━━━━━━━\u001b[0m \u001b[32m44.6/44.6 kB\u001b[0m \u001b[31m1.2 MB/s\u001b[0m eta \u001b[36m0:00:00\u001b[0m\n",
            "\u001b[?25hInstalling collected packages: einops\n",
            "Successfully installed einops-0.7.0\n"
          ]
        }
      ],
      "source": [
        "!pip install einops\n",
        "\n",
        "import warnings\n",
        "warnings.filterwarnings('ignore')\n",
        "\n",
        "import os\n",
        "import gc\n",
        "from typing import List, Iterable\n",
        "\n",
        "from IPython.display import clear_output\n",
        "gc.enable()\n",
        "\n",
        "import torch\n",
        "import torch.nn as nn\n",
        "from torch.utils.data import Dataset, DataLoader\n",
        "from torchvision.ops import StochasticDepth\n",
        "from torchvision import datasets, transforms\n",
        "\n",
        "from einops import rearrange\n",
        "\n",
        "import numpy as np\n",
        "import pandas as pd\n",
        "\n",
        "import matplotlib.pyplot as plt\n",
        "import cv2\n",
        "from PIL import Image, ImageDraw\n",
        "\n",
        "from sklearn.model_selection import train_test_split\n",
        "\n",
        "import albumentations as A\n",
        "from albumentations.pytorch.transforms import ToTensorV2\n",
        "\n",
        "from tqdm.notebook import tqdm\n",
        "from glob import glob\n",
        "\n",
        "seed = 42\n",
        "pd.set_option('display.max_colwidth', None)"
      ]
    },
    {
      "cell_type": "markdown",
      "source": [
        "## 1. Get data"
      ],
      "metadata": {
        "id": "4eH5zYFwHKbZ"
      }
    },
    {
      "cell_type": "code",
      "source": [
        "!pip install opendatasets\n",
        "import opendatasets as od\n",
        "# downloading dataset from kaggle\n",
        "od.download(\"https://www.kaggle.com/datasets/arjitdsce/cityscapes\")"
      ],
      "metadata": {
        "colab": {
          "base_uri": "https://localhost:8080/"
        },
        "id": "5NDX9nHQ3-92",
        "outputId": "a00a2c07-9c8f-40b7-e5d9-9adfd84c1c20"
      },
      "execution_count": 6,
      "outputs": [
        {
          "output_type": "stream",
          "name": "stdout",
          "text": [
            "Collecting opendatasets\n",
            "  Downloading opendatasets-0.1.22-py3-none-any.whl (15 kB)\n",
            "Requirement already satisfied: tqdm in /usr/local/lib/python3.10/dist-packages (from opendatasets) (4.66.1)\n",
            "Requirement already satisfied: kaggle in /usr/local/lib/python3.10/dist-packages (from opendatasets) (1.5.16)\n",
            "Requirement already satisfied: click in /usr/local/lib/python3.10/dist-packages (from opendatasets) (8.1.7)\n",
            "Requirement already satisfied: six>=1.10 in /usr/local/lib/python3.10/dist-packages (from kaggle->opendatasets) (1.16.0)\n",
            "Requirement already satisfied: certifi in /usr/local/lib/python3.10/dist-packages (from kaggle->opendatasets) (2023.11.17)\n",
            "Requirement already satisfied: python-dateutil in /usr/local/lib/python3.10/dist-packages (from kaggle->opendatasets) (2.8.2)\n",
            "Requirement already satisfied: requests in /usr/local/lib/python3.10/dist-packages (from kaggle->opendatasets) (2.31.0)\n",
            "Requirement already satisfied: python-slugify in /usr/local/lib/python3.10/dist-packages (from kaggle->opendatasets) (8.0.1)\n",
            "Requirement already satisfied: urllib3 in /usr/local/lib/python3.10/dist-packages (from kaggle->opendatasets) (2.0.7)\n",
            "Requirement already satisfied: bleach in /usr/local/lib/python3.10/dist-packages (from kaggle->opendatasets) (6.1.0)\n",
            "Requirement already satisfied: webencodings in /usr/local/lib/python3.10/dist-packages (from bleach->kaggle->opendatasets) (0.5.1)\n",
            "Requirement already satisfied: text-unidecode>=1.3 in /usr/local/lib/python3.10/dist-packages (from python-slugify->kaggle->opendatasets) (1.3)\n",
            "Requirement already satisfied: charset-normalizer<4,>=2 in /usr/local/lib/python3.10/dist-packages (from requests->kaggle->opendatasets) (3.3.2)\n",
            "Requirement already satisfied: idna<4,>=2.5 in /usr/local/lib/python3.10/dist-packages (from requests->kaggle->opendatasets) (3.6)\n",
            "Installing collected packages: opendatasets\n",
            "Successfully installed opendatasets-0.1.22\n",
            "Please provide your Kaggle credentials to download this dataset. Learn more: http://bit.ly/kaggle-creds\n",
            "Your Kaggle username: arjitdsce\n",
            "Your Kaggle Key: ··········\n",
            "Downloading cityscapes.zip to ./cityscapes\n"
          ]
        },
        {
          "output_type": "stream",
          "name": "stderr",
          "text": [
            "100%|██████████| 103M/103M [00:01<00:00, 79.0MB/s] \n"
          ]
        },
        {
          "output_type": "stream",
          "name": "stdout",
          "text": [
            "\n"
          ]
        }
      ]
    },
    {
      "cell_type": "markdown",
      "source": [
        "## 2. Data exploration and preparation"
      ],
      "metadata": {
        "id": "vrWHmdQGHYl9"
      }
    },
    {
      "cell_type": "code",
      "source": [
        "train_images_dir = \"/content/cityscapes/cityscapes_data/train/images\"\n",
        "train_masks_dir = \"/content/cityscapes/cityscapes_data/train/masks\"\n",
        "\n",
        "val_images_dir = \"/content/cityscapes/cityscapes_data/val/images\"\n",
        "val_masks_dir = \"/content/cityscapes/cityscapes_data/val/masks\""
      ],
      "metadata": {
        "id": "all0IUnW5Ksk"
      },
      "execution_count": 7,
      "outputs": []
    },
    {
      "cell_type": "code",
      "source": [
        "import random\n",
        "from PIL import Image\n",
        "\n",
        "# display the image\n",
        "img = Image.open(\"/content/cityscapes/cityscapes_data/train/images/1.jpg\")\n",
        "print(f\"Image height: {img.height}\")\n",
        "print(f\"Image width: {img.width}\")\n",
        "img"
      ],
      "metadata": {
        "colab": {
          "base_uri": "https://localhost:8080/",
          "height": 308
        },
        "id": "f2_-tjAXI9gy",
        "outputId": "1cb67bfe-1adb-492b-b02b-245c6e7ebdc4"
      },
      "execution_count": 8,
      "outputs": [
        {
          "output_type": "stream",
          "name": "stdout",
          "text": [
            "Image height: 256\n",
            "Image width: 256\n"
          ]
        },
        {
          "output_type": "execute_result",
          "data": {
            "text/plain": [
              "<PIL.JpegImagePlugin.JpegImageFile image mode=RGB size=256x256>"
            ],
            "image/png": "[encoded data removed]"
          },
          "metadata": {},
          "execution_count": 8
        }
      ]
    },
    {
      "cell_type": "code",
      "source": [
        "# display the mask associated with image\n",
        "img = Image.open(\"/content/cityscapes/cityscapes_data/train/masks/1.jpg\")\n",
        "print(f\"Image height: {img.height}\")\n",
        "print(f\"Image width: {img.width}\")\n",
        "img"
      ],
      "metadata": {
        "colab": {
          "base_uri": "https://localhost:8080/",
          "height": 308
        },
        "id": "bfiaICw6JfAl",
        "outputId": "95719e15-821c-4460-ff69-c3be71ec6792"
      },
      "execution_count": 9,
      "outputs": [
        {
          "output_type": "stream",
          "name": "stdout",
          "text": [
            "Image height: 256\n",
            "Image width: 256\n"
          ]
        },
        {
          "output_type": "execute_result",
          "data": {
            "text/plain": [
              "<PIL.JpegImagePlugin.JpegImageFile image mode=RGB size=256x256>"
            ],
            "image/png": "[encoded data removed]"
          },
          "metadata": {},
          "execution_count": 9
        }
      ]
    },
    {
      "cell_type": "markdown",
      "source": [
        "## 3. Data transformation and Data Loader"
      ],
      "metadata": {
        "id": "0MEdmkGMIAXd"
      }
    },
    {
      "cell_type": "code",
      "source": [
        "# Define a custom dataset class 'CityscapesDataset' that inherits from PyTorch's 'Dataset' class.\n",
        "class CityscapesDataset(Dataset):\n",
        "    def __init__(self, image_folder, mask_folder, transform=None):\n",
        "        # Create a list of file paths for images by joining the 'image_folder' path with file names ending in '.jpg' or '.png'.\n",
        "        self.image_paths = [os.path.join(image_folder, f) for f in os.listdir(image_folder) if f.endswith(('.jpg', '.png'))]\n",
        "\n",
        "        # Create a list of file paths for masks by joining the 'mask_folder' path with file names ending in '.jpg' or '.png'.\n",
        "        self.mask_paths = [os.path.join(mask_folder, f) for f in os.listdir(mask_folder) if f.endswith(('.jpg', '.png'))]\n",
        "\n",
        "        # Store the transformation function to be applied to both images and masks.\n",
        "        self.transform = transform\n",
        "\n",
        "    # Define the length of the dataset, which is the number of images in the dataset.\n",
        "    def __len__(self):\n",
        "        return len(self.image_paths)\n",
        "\n",
        "    # Define how to retrieve an item from the dataset given an index 'idx'.\n",
        "    def __getitem__(self, idx):\n",
        "        # Open and convert the image to RGB format.\n",
        "        image = Image.open(self.image_paths[idx]).convert('RGB')\n",
        "\n",
        "        # Open and convert the mask to grayscale.\n",
        "        mask = Image.open(self.mask_paths[idx]).convert('L')\n",
        "\n",
        "        # Apply the specified transform function to both image and mask if it exists.\n",
        "        if self.transform:\n",
        "            image = self.transform(image)\n",
        "            mask = torch.tensor(np.array(mask)).long()  # Convert mask to LongTensor for segmentation\n",
        "\n",
        "        # Return a tuple containing the transformed image and mask tensors.\n",
        "        return image, mask\n",
        "\n",
        "# Define a series of image transformations to be applied to both images and masks.\n",
        "transform = transforms.Compose([\n",
        "    transforms.Resize((224, 224)),\n",
        "    transforms.ToTensor(),\n",
        "    transforms.Normalize((0.5, 0.5, 0.5), (0.5, 0.5, 0.5))\n",
        "])"
      ],
      "metadata": {
        "id": "_SGSJL_m6UQQ"
      },
      "execution_count": 10,
      "outputs": []
    },
    {
      "cell_type": "code",
      "source": [
        "# Specify the batch size for the dataloaders.\n",
        "batch_size = 2\n",
        "\"\"\"\n",
        "Here, I first tried with batch size = 8 and 6 but \"Out of Memory Error\" was occuring, so I reduced it to 2.\n",
        "\"\"\"\n",
        "\n",
        "# Create a training dataset using the 'CityscapesDataset' class with specified image and mask directories and the defined transform.\n",
        "train_dataset = CityscapesDataset(image_folder=train_images_dir, mask_folder=train_masks_dir, transform=transform)\n",
        "\n",
        "# Create a training dataloader using the 'DataLoader' class, specifying the batch size and enabling shuffling of the dataset.\n",
        "train_dataloader = DataLoader(train_dataset, batch_size=batch_size, shuffle=True)\n",
        "\n",
        "# Create a validation dataset using the 'CityscapesDataset' class with specified image and mask directories and the defined transform.\n",
        "val_dataset = CityscapesDataset(image_folder=val_images_dir, mask_folder=val_masks_dir, transform=transform)\n",
        "\n",
        "# Create a validation dataloader using the 'DataLoader' class, specifying the batch size and enabling shuffling of the dataset.\n",
        "val_dataloader = DataLoader(val_dataset, batch_size=batch_size, shuffle=True)"
      ],
      "metadata": {
        "id": "yZgZyW2L79hK"
      },
      "execution_count": 11,
      "outputs": []
    },
    {
      "cell_type": "code",
      "source": [
        "len(train_dataset), len(val_dataset)"
      ],
      "metadata": {
        "colab": {
          "base_uri": "https://localhost:8080/"
        },
        "id": "vmtQPAioLYoI",
        "outputId": "f4965bac-10d3-4c9b-84f7-8b69a61f8450"
      },
      "execution_count": 12,
      "outputs": [
        {
          "output_type": "execute_result",
          "data": {
            "text/plain": [
              "(2975, 500)"
            ]
          },
          "metadata": {},
          "execution_count": 12
        }
      ]
    },
    {
      "cell_type": "code",
      "source": [
        "EPOCHS = 3\n",
        "NUM_CLASSES = 19"
      ],
      "metadata": {
        "id": "Q2ctR4xW-DUu"
      },
      "execution_count": 13,
      "outputs": []
    },
    {
      "cell_type": "code",
      "source": [
        "# Setup device agnostic code\n",
        "device = \"cuda\" if torch.cuda.is_available() else \"cpu\"\n",
        "device"
      ],
      "metadata": {
        "colab": {
          "base_uri": "https://localhost:8080/",
          "height": 35
        },
        "id": "2CeIhfZI_B8n",
        "outputId": "0251c304-5f12-4ec4-a53d-216dc4a126d2"
      },
      "execution_count": 14,
      "outputs": [
        {
          "output_type": "execute_result",
          "data": {
            "text/plain": [
              "'cuda'"
            ],
            "application/vnd.google.colaboratory.intrinsic+json": {
              "type": "string"
            }
          },
          "metadata": {},
          "execution_count": 14
        }
      ]
    },
    {
      "cell_type": "markdown",
      "source": [
        "## 4. Segformer implementation\n",
        "\n",
        "Link to the paper: https://arxiv.org/abs/2105.15203\n",
        "\n",
        "SegFormer has two appealing features:\n",
        "\n",
        "* SegFormer comprises a novel hierarchically structured Transformer encoder which outputs multiscale features. It does not need positional encoding, thereby avoiding the interpolation of positional codes which leads to decreased performance when the testing resolution differs from training.\n",
        "\n",
        "* SegFormer avoids complex decoders. The proposed MLP decoder aggregates information from different layers, and thus combining both local attention and global attention to render powerful representations. We show that this simple and lightweight design is the key to efficient segmentation on Transformers."
      ],
      "metadata": {
        "id": "61hpfaVwLamY"
      }
    },
    {
      "cell_type": "code",
      "source": [
        "# Define a custom layer 'LayerNorm2d' that inherits from PyTorch's 'LayerNorm'.\n",
        "class LayerNorm2d(nn.LayerNorm):\n",
        "    \"\"\"\n",
        "    Swap channel dim, apply layer norm, and swap back: see https://github.com/pytorch/pytorch/issues/71465\n",
        "    \"\"\"\n",
        "    def forward(self, x):\n",
        "        # Rearrange the input tensor to swap channel and spatial dimensions before applying layer normalization.\n",
        "        x = rearrange(x, \"b c h w -> b h w c\")\n",
        "\n",
        "        # Apply layer normalization using the 'super()' function to refer to the parent class.\n",
        "        x = super().forward(x)\n",
        "\n",
        "        # Rearrange the tensor back to its original shape after layer normalization.\n",
        "        x = rearrange(x, \"b h w c -> b c h w\")\n",
        "\n",
        "        return x\n",
        "\n",
        "# Define a custom layer 'OverlapPatchMerging' that inherits from PyTorch's 'nn.Sequential'.\n",
        "class OverlapPatchMerging(nn.Sequential):\n",
        "    def __init__(\n",
        "        self, in_channels: int, out_channels: int, patch_size: int, overlap_size: int\n",
        "    ):\n",
        "        # Initialize the layer as a sequential combination of a 2D convolutional layer and a custom 'LayerNorm2d'.\n",
        "        super(OverlapPatchMerging, self).__init__(\n",
        "            nn.Conv2d(\n",
        "                in_channels,\n",
        "                out_channels,\n",
        "                kernel_size=patch_size,\n",
        "                stride=overlap_size,\n",
        "                padding=patch_size // 2,\n",
        "                bias=False\n",
        "            ),\n",
        "            LayerNorm2d(out_channels)\n",
        "        )"
      ],
      "metadata": {
        "id": "3dHsVGqY9TGb"
      },
      "execution_count": 15,
      "outputs": []
    },
    {
      "cell_type": "code",
      "source": [
        "# Define a custom module 'EfficientMultiHeadAttention' for efficient multi-head attention.\n",
        "class EfficientMultiHeadAttention(nn.Module):\n",
        "    def __init__(self, channels: int, reduction_ratio: int = 1, num_heads: int = 8):\n",
        "        super(EfficientMultiHeadAttention, self).__init__()\n",
        "\n",
        "        # Create a sequential module for reducing the input channels and applying layer normalization.\n",
        "        self.reducer = nn.Sequential(\n",
        "            nn.Conv2d(\n",
        "                channels, channels, kernel_size=reduction_ratio, stride=reduction_ratio\n",
        "            ),\n",
        "            LayerNorm2d(channels),\n",
        "        )\n",
        "\n",
        "        # Create a multi-head attention module with specified parameters.\n",
        "        self.att = nn.MultiheadAttention(\n",
        "            channels, num_heads=num_heads, batch_first=True\n",
        "        )\n",
        "\n",
        "    def forward(self, x):\n",
        "        _, _, h, w = x.shape\n",
        "\n",
        "        # Reduce the input tensor's spatial dimensions using the defined reducer.\n",
        "        reduced_x = self.reducer(x)\n",
        "\n",
        "        # Attention requires tensors of shape (batch, sequence_length, channels).\n",
        "        reduced_x = rearrange(reduced_x, \"b c h w -> b (h w) c\")  # K, V\n",
        "        x = rearrange(x, \"b c h w -> b (h w) c\")  # Q\n",
        "\n",
        "        # Apply multi-head attention to the query and key tensors.\n",
        "        out = self.att(query=x, key=reduced_x, value=reduced_x)[0]\n",
        "\n",
        "        # Reshape the output back to (batch, channels, height, width).\n",
        "        out = rearrange(out, \"b (h w) c -> b c h w\", h=h, w=w)\n",
        "\n",
        "        return out\n",
        "\n",
        "# Define a custom module 'MixMLP' for a Mix MLP block.\n",
        "class MixMLP(nn.Sequential):\n",
        "    def __init__(self, channels: int, expansion: int = 4):\n",
        "        super(MixMLP, self).__init__(\n",
        "            # Linear layer\n",
        "            nn.Conv2d(channels, channels, kernel_size=1),\n",
        "\n",
        "            # Depth-wise convolution\n",
        "            nn.Conv2d(\n",
        "                    channels,\n",
        "                    channels * expansion,\n",
        "                    kernel_size=3,\n",
        "                    groups=channels,\n",
        "                    padding=1,\n",
        "            ),\n",
        "            nn.GELU(),  # GELU activation function\n",
        "\n",
        "            # Linear layer\n",
        "            nn.Conv2d(channels * expansion, channels, kernel_size=1),\n",
        "        )"
      ],
      "metadata": {
        "id": "ckb_cTef9lXi"
      },
      "execution_count": 16,
      "outputs": []
    },
    {
      "cell_type": "code",
      "source": [
        "# Define a custom module 'ResidualAdd' for adding and normalizing MHA and FFN outputs.\n",
        "class ResidualAdd(nn.Module):\n",
        "    \"\"\"A layer that helps to add&norm MHA and FFN outputs\"\"\"\n",
        "    def __init__(self, fn):\n",
        "        super(ResidualAdd, self).__init__()\n",
        "        self.fn = fn\n",
        "\n",
        "    def forward(self, x, **kwargs):\n",
        "        # Forward pass through the provided function.\n",
        "        out = self.fn(x, **kwargs)\n",
        "\n",
        "        # Add the input tensor 'x' to the output tensor and return the result.\n",
        "        x = x + out\n",
        "        return x\n",
        "\n",
        "# Define a custom module 'SegFormerEncoderBlock' representing an encoder block in the SegFormer architecture.\n",
        "class SegFormerEncoderBlock(nn.Sequential):\n",
        "    \"\"\"Encoder Block: not quite orthodox as not normalizing after MHA and FFN directly\"\"\"\n",
        "    def __init__(\n",
        "        self,\n",
        "        channels: int,\n",
        "        reduction_ratio: int = 1,\n",
        "        num_heads: int = 8,\n",
        "        mlp_expansion: int = 4,\n",
        "        drop_path_prob: float = .0\n",
        "    ):\n",
        "        super(SegFormerEncoderBlock, self).__init__(\n",
        "            # Apply ResidualAdd for the Multi-Head Attention (MHA) block.\n",
        "            ResidualAdd(\n",
        "                nn.Sequential(\n",
        "                    LayerNorm2d(channels),\n",
        "                    EfficientMultiHeadAttention(channels, reduction_ratio, num_heads),\n",
        "                )\n",
        "            ),\n",
        "\n",
        "            # Apply ResidualAdd for the Mix MLP block.\n",
        "            ResidualAdd(\n",
        "                nn.Sequential(\n",
        "                    LayerNorm2d(channels),\n",
        "                    MixMLP(channels, expansion=mlp_expansion),\n",
        "                    StochasticDepth(p=drop_path_prob, mode=\"batch\")\n",
        "                )\n",
        "            ),\n",
        "        )"
      ],
      "metadata": {
        "id": "aKGGhs6D9njx"
      },
      "execution_count": 17,
      "outputs": []
    },
    {
      "cell_type": "code",
      "source": [
        "# Define a custom module 'SegFormerEncoderStage' representing an encoder stage in the SegFormer architecture.\n",
        "class SegFormerEncoderStage(nn.Sequential):\n",
        "    def __init__(\n",
        "        self,\n",
        "        in_channels: int,\n",
        "        out_channels: int,\n",
        "        patch_size: int,\n",
        "        overlap_size: int,\n",
        "        drop_probs: List[int],\n",
        "        depth: int = 2,\n",
        "        reduction_ratio: int = 1,\n",
        "        num_heads: int = 8,\n",
        "        mlp_expansion: int = 4,\n",
        "    ):\n",
        "        super(SegFormerEncoderStage, self).__init__()\n",
        "\n",
        "        # Apply OverlapPatchMerging to merge overlapping patches in the input.\n",
        "        self.overlap_patch_merge = OverlapPatchMerging(\n",
        "            in_channels, out_channels, patch_size, overlap_size,\n",
        "        )\n",
        "\n",
        "        # Create a sequential module containing multiple SegFormerEncoderBlock instances.\n",
        "        self.blocks = nn.Sequential(\n",
        "            *[\n",
        "                SegFormerEncoderBlock(\n",
        "                    out_channels, reduction_ratio, num_heads, mlp_expansion, drop_probs[i]\n",
        "                )\n",
        "                for i in range(depth)\n",
        "            ]\n",
        "        )\n",
        "\n",
        "        # Apply layer normalization to the output of the encoder stage.\n",
        "        self.norm = LayerNorm2d(out_channels)\n"
      ],
      "metadata": {
        "id": "1xlI3tL-9paS"
      },
      "execution_count": 18,
      "outputs": []
    },
    {
      "cell_type": "code",
      "source": [
        "# Define a function 'chunks' to split an iterable into chunks of specified sizes.\n",
        "def chunks(data: Iterable, sizes: List[int]):\n",
        "    \"\"\"\n",
        "    Given an iterable, returns slices using sizes as indices\n",
        "    \"\"\"\n",
        "    curr = 0\n",
        "    for size in sizes:\n",
        "        chunk = data[curr: curr + size]\n",
        "        curr += size\n",
        "        yield chunk\n",
        "\n",
        "# Define a custom module 'SegFormerEncoder'.\n",
        "class SegFormerEncoder(nn.Module):\n",
        "    def __init__(\n",
        "        self,\n",
        "        in_channels: int,\n",
        "        widths: List[int],\n",
        "        depths: List[int],\n",
        "        all_num_heads: List[int],\n",
        "        patch_sizes: List[int],\n",
        "        overlap_sizes: List[int],\n",
        "        reduction_ratios: List[int],\n",
        "        mlp_expansions: List[int],\n",
        "        drop_prob: float = .0\n",
        "    ):\n",
        "        super(SegFormerEncoder, self).__init__()\n",
        "\n",
        "        # Create drop paths probabilities (one for each stage's block).\n",
        "        drop_probs = [x.item() for x in torch.linspace(0, drop_prob, sum(depths))]\n",
        "\n",
        "        # Create a ModuleList containing SegFormerEncoderStage instances based on specified parameters.\n",
        "        self.stages = nn.ModuleList(\n",
        "            [\n",
        "                SegFormerEncoderStage(*args)\n",
        "                for args in zip(\n",
        "                    [in_channels, *widths],\n",
        "                    widths,\n",
        "                    patch_sizes,\n",
        "                    overlap_sizes,\n",
        "                    chunks(drop_probs, sizes=depths),\n",
        "                    depths,\n",
        "                    reduction_ratios,\n",
        "                    all_num_heads,\n",
        "                    mlp_expansions\n",
        "                )\n",
        "            ]\n",
        "        )\n",
        "\n",
        "    def forward(self, x):\n",
        "        features = []\n",
        "\n",
        "        # Iterate through each stage in the encoder and collect the output features.\n",
        "        for stage in self.stages:\n",
        "            x = stage(x)\n",
        "            features.append(x)\n",
        "\n",
        "        return features"
      ],
      "metadata": {
        "id": "7pUb8lG59rUg"
      },
      "execution_count": 19,
      "outputs": []
    },
    {
      "cell_type": "code",
      "source": [
        "# Define a custom module 'SegFormerDecoderBlock' for a decoder block with upsampling.\n",
        "class SegFormerDecoderBlock(nn.Sequential):\n",
        "    \"\"\"Upsample\"\"\"\n",
        "    def __init__(self, in_channels: int, out_channels: int, scale_factor: int = 2):\n",
        "        super(SegFormerDecoderBlock, self).__init__(\n",
        "            nn.UpsamplingBilinear2d(scale_factor=scale_factor),\n",
        "            nn.Conv2d(in_channels, out_channels, kernel_size=1),\n",
        "        )\n",
        "\n",
        "# Define a custom module 'SegFormerDecoder' for the SegFormer decoder.\n",
        "class SegFormerDecoder(nn.Module):\n",
        "    \"\"\"Takes a list of features and returns a list of new features with the same spatial size and channels\"\"\"\n",
        "    def __init__(self, out_channels: int, widths: List[int], scale_factors: List[int]):\n",
        "        super(SegFormerDecoder, self).__init__()\n",
        "\n",
        "        # Create a ModuleList containing SegFormerDecoderBlock instances based on specified parameters.\n",
        "        self.stages = nn.ModuleList(\n",
        "            [\n",
        "                SegFormerDecoderBlock(in_channels, out_channels, scale_factor)\n",
        "                for in_channels, scale_factor in zip(widths, scale_factors)\n",
        "            ]\n",
        "        )\n",
        "\n",
        "    def forward(self, features):\n",
        "        new_features = []\n",
        "\n",
        "        # Iterate through each feature and corresponding stage in the decoder.\n",
        "        for feature, stage in zip(features, self.stages):\n",
        "            x = stage(feature)\n",
        "            new_features.append(x)\n",
        "\n",
        "        return new_features"
      ],
      "metadata": {
        "id": "Wk3R1cdG9tFB"
      },
      "execution_count": 20,
      "outputs": []
    },
    {
      "cell_type": "code",
      "source": [
        "# Define a custom module 'SegFormerSegmentationHead' for the segmentation head in the SegFormer model.\n",
        "class SegFormerSegmentationHead(nn.Module):\n",
        "    def __init__(self, channels: int, num_classes: int, num_features: int = 4):\n",
        "        super(SegFormerSegmentationHead, self).__init__()\n",
        "\n",
        "        # Define a sequential module for feature fusion.\n",
        "        self.fuse = nn.Sequential(\n",
        "            nn.Conv2d(channels * num_features, channels, kernel_size=1, bias=False),\n",
        "            nn.ReLU(),\n",
        "            nn.BatchNorm2d(channels)\n",
        "        )\n",
        "\n",
        "        # Define a convolutional layer for final prediction.\n",
        "        self.predict = nn.Conv2d(channels, num_classes, kernel_size=1)\n",
        "\n",
        "    def forward(self, features):\n",
        "        # Concatenate the input features along the channel dimension.\n",
        "        x = torch.cat(features, dim=1)\n",
        "\n",
        "        # Apply the feature fusion module.\n",
        "        x = self.fuse(x)\n",
        "\n",
        "        # Apply the convolutional layer for final prediction.\n",
        "        x = self.predict(x)\n",
        "\n",
        "        return x"
      ],
      "metadata": {
        "id": "d0ELbVKT9vBz"
      },
      "execution_count": 21,
      "outputs": []
    },
    {
      "cell_type": "code",
      "source": [
        "# Define a custom module 'SegFormer' representing the SegFormer model.\n",
        "class SegFormer(nn.Module):\n",
        "    def __init__(\n",
        "        self,\n",
        "        in_channels: int,\n",
        "        widths: List[int],\n",
        "        depths: List[int],\n",
        "        all_num_heads: List[int],\n",
        "        patch_sizes: List[int],\n",
        "        overlap_sizes: List[int],\n",
        "        reduction_ratios: List[int],\n",
        "        mlp_expansions: List[int],\n",
        "        decoder_channels: int,\n",
        "        scale_factors: List[int],\n",
        "        num_classes: int,\n",
        "        drop_prob: float = 0.0,\n",
        "    ):\n",
        "        super(SegFormer, self).__init__()\n",
        "\n",
        "        # Create the SegFormer encoder module.\n",
        "        self.encoder = SegFormerEncoder(\n",
        "            in_channels,\n",
        "            widths,\n",
        "            depths,\n",
        "            all_num_heads,\n",
        "            patch_sizes,\n",
        "            overlap_sizes,\n",
        "            reduction_ratios,\n",
        "            mlp_expansions,\n",
        "            drop_prob,\n",
        "        )\n",
        "\n",
        "        # Create the SegFormer decoder module.\n",
        "        self.decoder = SegFormerDecoder(decoder_channels, widths[::-1], scale_factors)\n",
        "\n",
        "        # Create the SegFormer segmentation head module.\n",
        "        self.head = SegFormerSegmentationHead(\n",
        "            decoder_channels, num_classes, num_features=len(widths)\n",
        "        )\n",
        "\n",
        "    def forward(self, x):\n",
        "        # Pass the input through the SegFormer encoder.\n",
        "        features = self.encoder(x)\n",
        "\n",
        "        # Pass the encoder features through the SegFormer decoder in reverse order.\n",
        "        features = self.decoder(features[::-1])\n",
        "\n",
        "        # Perform segmentation using the SegFormer segmentation head.\n",
        "        segmentation = self.head(features)\n",
        "\n",
        "        return segmentation"
      ],
      "metadata": {
        "id": "pjSWjFeR9xHZ"
      },
      "execution_count": 22,
      "outputs": []
    },
    {
      "cell_type": "code",
      "source": [
        "# Create an instance of the SegFormer model with specified parameters.\n",
        "segformer = SegFormer(\n",
        "    in_channels=3,\n",
        "    widths=[64, 128, 256, 512],\n",
        "    depths=[3, 4, 6, 3],\n",
        "    all_num_heads=[1, 2, 4, 8],\n",
        "    patch_sizes=[7, 3, 3, 3],\n",
        "    overlap_sizes=[4, 2, 2, 2],\n",
        "    reduction_ratios=[8, 4, 2, 1],\n",
        "    mlp_expansions=[4, 4, 4, 4],\n",
        "    decoder_channels=256,\n",
        "    scale_factors=[8, 4, 2, 1],\n",
        "    num_classes=NUM_CLASSES,\n",
        ")\n",
        "\n",
        "# Forward pass through the SegFormer model with a random input tensor.\n",
        "segmentation = segformer(torch.randn((1, 3, 224, 224)))\n",
        "\n",
        "# Print the shape of the segmentation output tensor.\n",
        "print(segmentation.shape)  # torch.Size([1, 2, 56, 56])"
      ],
      "metadata": {
        "colab": {
          "base_uri": "https://localhost:8080/"
        },
        "id": "V1_AeXoE92dt",
        "outputId": "a2e0a2c9-f1ba-4912-c0f1-9eb247de1af8"
      },
      "execution_count": 23,
      "outputs": [
        {
          "output_type": "stream",
          "name": "stdout",
          "text": [
            "torch.Size([1, 19, 56, 56])\n"
          ]
        }
      ]
    },
    {
      "cell_type": "code",
      "source": [
        "# Define a class 'EarlyStopping' for early stopping during model training.\n",
        "class EarlyStopping:\n",
        "    def __init__(self, patience=15, min_delta=0, path='model.pth'):\n",
        "        \"\"\"\n",
        "        Args:\n",
        "            patience (int): Number of epochs with no improvement after which training will be stopped.\n",
        "            min_delta (float): Minimum change in the monitored quantity to qualify as an improvement.\n",
        "            path (str): Path to save the model checkpoint when a new best is found.\n",
        "        \"\"\"\n",
        "        self.path = path\n",
        "        self.patience = patience\n",
        "        self.min_delta = min_delta\n",
        "        self.counter = 0\n",
        "        self.best_loss = None\n",
        "        self.early_stop = False\n",
        "\n",
        "    def __call__(self, val_loss, model=None):\n",
        "        \"\"\"\n",
        "        Args:\n",
        "            val_loss (float): Validation loss value to compare with the best loss.\n",
        "            model (nn.Module): Model to be saved in the checkpoint.\n",
        "\n",
        "        Returns:\n",
        "            None\n",
        "        \"\"\"\n",
        "        # Check if the best_loss is not initialized, or if there is a significant improvement.\n",
        "        if self.best_loss is None or (self.best_loss - val_loss > self.min_delta):\n",
        "            # Save the model checkpoint and update the best_loss.\n",
        "            checkpoint = {\n",
        "                'model': model.state_dict(),\n",
        "            }\n",
        "            torch.save(checkpoint, self.path)\n",
        "            print(f'Model saved to: {self.path}')\n",
        "            self.best_loss = val_loss\n",
        "            self.counter = 0\n",
        "        else:\n",
        "            # Increment the counter for early stopping.\n",
        "            self.counter += 1\n",
        "            print(f\"INFO: Early stopping counter {self.counter} of {self.patience}\")\n",
        "\n",
        "            # Check if the patience limit has been reached.\n",
        "            if self.counter >= self.patience:\n",
        "                print('INFO: Early stopping')\n",
        "                self.early_stop = True"
      ],
      "metadata": {
        "id": "iUY0Pcb594jp"
      },
      "execution_count": 24,
      "outputs": []
    },
    {
      "cell_type": "code",
      "source": [
        "# Create an instance of the SegFormer model with specified parameters and move it to the specified device.\n",
        "model = SegFormer(\n",
        "    in_channels=3,\n",
        "    widths=[64, 128, 256, 512],\n",
        "    depths=[3, 4, 6, 3],\n",
        "    all_num_heads=[1, 2, 4, 8],\n",
        "    patch_sizes=[14, 7, 7, 7],  # Adjusted for 224x224 input size\n",
        "    overlap_sizes=[7, 3, 3, 3],\n",
        "    reduction_ratios=[8, 4, 2, 1],\n",
        "    mlp_expansions=[4, 4, 4, 4],\n",
        "    decoder_channels=224,\n",
        "    scale_factors=[8, 4, 2, 1],\n",
        "    num_classes=NUM_CLASSES,\n",
        ").to(device)\n",
        "\n",
        "# Define the loss criterion (BCEWithLogitsLoss).\n",
        "criterion = nn.BCEWithLogitsLoss()\n",
        "\n",
        "# Define the optimizer (AdamW) with specified learning rate, betas, and weight decay.\n",
        "optimizer = torch.optim.AdamW(model.parameters(), lr=0.0001, betas=(0.9, 0.999), weight_decay=0.00005)\n",
        "\n",
        "# Define a learning rate scheduler (ReduceLROnPlateau) with specified parameters.\n",
        "scheduler = torch.optim.lr_scheduler.ReduceLROnPlateau(optimizer, patience=5, min_lr=1e-7, factor=0.1)\n",
        "\n",
        "# Create an instance of the EarlyStopping class with specified patience.\n",
        "stopper = EarlyStopping(patience=8)"
      ],
      "metadata": {
        "id": "PkCp2ctS-w5q"
      },
      "execution_count": 25,
      "outputs": []
    },
    {
      "cell_type": "code",
      "source": [
        "def accuracy_metric(outputs, masks):\n",
        "    \"\"\"\n",
        "    Calculates multi-class segmentation accuracy.\n",
        "\n",
        "    Args:\n",
        "        outputs (torch.Tensor): Model predictions (logits).\n",
        "        masks (torch.Tensor): Ground truth segmentation masks.\n",
        "\n",
        "    Returns:\n",
        "        float: Overall pixel accuracy.\n",
        "    \"\"\"\n",
        "    # Get the most likely class for each pixel.\n",
        "    argmax_outputs = torch.argmax(outputs, dim=1)\n",
        "\n",
        "    # Count the number of correct predictions.\n",
        "    correct = (argmax_outputs == masks).float().sum().item()\n",
        "\n",
        "    # Calculate the total number of pixels.\n",
        "    total = masks.numel()\n",
        "\n",
        "    # Calculate and return the overall pixel accuracy.\n",
        "    return correct / total"
      ],
      "metadata": {
        "id": "Cr93uCc2AsU9"
      },
      "execution_count": 26,
      "outputs": []
    },
    {
      "cell_type": "code",
      "source": [
        "# Training loop\n",
        "for epoch in range(EPOCHS):\n",
        "    # Initialize training phase metrics\n",
        "    train_loss = 0.0\n",
        "    train_accuracy = 0.0\n",
        "\n",
        "    # Training phase\n",
        "    model.train()  # Set the model to training mode\n",
        "    for images, masks in tqdm(train_dataloader):\n",
        "        # Move data to the device (GPU, if available)\n",
        "        images = images.to(device)\n",
        "        masks = masks.long().to(device)  # Convert masks to LongTensor\n",
        "\n",
        "        # Zero the gradients\n",
        "        optimizer.zero_grad()\n",
        "\n",
        "        # Forward pass through the model\n",
        "        outputs = model(images)\n",
        "\n",
        "        # Calculate the loss\n",
        "        loss = criterion(outputs, masks)\n",
        "\n",
        "        # Backpropagate the loss\n",
        "        loss.backward()\n",
        "\n",
        "        # Update model parameters\n",
        "        optimizer.step()\n",
        "\n",
        "        # Accumulate loss for the epoch\n",
        "        train_loss += loss.item()\n",
        "\n",
        "        # Accumulate accuracy\n",
        "        train_accuracy += accuracy_metric(outputs, masks)\n",
        "\n",
        "    # Validation phase\n",
        "    model.eval()  # Set the model to evaluation mode\n",
        "    with torch.no_grad():  # Disable gradient computation for validation\n",
        "        # Initialize validation phase metrics\n",
        "        val_loss = 0.0\n",
        "        val_accuracy = 0.0\n",
        "        for images, masks in val_dataloader:\n",
        "            # Move data to the device (GPU, if available)\n",
        "            images = images.to(device)\n",
        "            masks = masks.long().to(device)\n",
        "\n",
        "            # Forward pass through the model\n",
        "            outputs = model(images)\n",
        "\n",
        "            # Calculate the loss\n",
        "            loss = criterion(outputs, masks)\n",
        "\n",
        "            # Accumulate validation loss\n",
        "            val_loss += loss.item()\n",
        "\n",
        "            # Accumulate validation accuracy\n",
        "            val_accuracy += accuracy_metric(outputs, masks)\n",
        "\n",
        "    # Print epoch metrics\n",
        "    print(f\"Epoch {epoch+1}/{EPOCHS}, Train Loss: {train_loss/len(train_dataloader):.4f}, Train Accuracy: {train_accuracy/len(train_dataloader):.4f}, Val Loss: {val_loss/len(val_dataloader):.4f}, Val Accuracy: {val_accuracy/len(val_dataloader):.4f}\")"
      ],
      "metadata": {
        "colab": {
          "base_uri": "https://localhost:8080/",
          "height": 424,
          "referenced_widgets": [
            "de89f36f63604e95bfa9607de0afed28",
            "a8fff683a08d462e88abdbd2109b53da",
            "fda407836b0347938e44cffd8819ac7e",
            "612075b59f814378b05928f989fcb8ea",
            "7baf5825618648008b7fbf48da396c62",
            "8ec298e53487447d9cf4333245905711",
            "983d93348af44e70acab3a4337f00c5b",
            "be4d088331bf4d899e73d8bbbb1cd4d0",
            "fec8a320a7934002bcc272e7afcdd3a3",
            "06759f47148d40f48ee3f2f32619272f",
            "4d70229395b24492a1c9ed32d050b974"
          ]
        },
        "id": "aFSEaNVe-82V",
        "outputId": "507052f0-e4ce-4c5f-9156-3a76f69c2426"
      },
      "execution_count": 27,
      "outputs": [
        {
          "output_type": "display_data",
          "data": {
            "text/plain": [
              "  0%|          | 0/1488 [00:00<?, ?it/s]"
            ],
            "application/vnd.jupyter.widget-view+json": {
              "version_major": 2,
              "version_minor": 0,
              "model_id": "de89f36f63604e95bfa9607de0afed28"
            }
          },
          "metadata": {}
        },
        {
          "output_type": "error",
          "ename": "RuntimeError",
          "evalue": "Sizes of tensors must match except in dimension 1. Expected size 16 but got size 22 for tensor number 2 in the list.",
          "traceback": [
            "\u001b[0;31m---------------------------------------------------------------------------\u001b[0m",
            "\u001b[0;31mRuntimeError\u001b[0m                              Traceback (most recent call last)",
            "\u001b[0;32m<ipython-input-27-785d6d6a44ea>\u001b[0m in \u001b[0;36m<cell line: 2>\u001b[0;34m()\u001b[0m\n\u001b[1;32m     16\u001b[0m \u001b[0;34m\u001b[0m\u001b[0m\n\u001b[1;32m     17\u001b[0m         \u001b[0;31m# Forward pass through the model\u001b[0m\u001b[0;34m\u001b[0m\u001b[0;34m\u001b[0m\u001b[0m\n\u001b[0;32m---> 18\u001b[0;31m         \u001b[0moutputs\u001b[0m \u001b[0;34m=\u001b[0m \u001b[0mmodel\u001b[0m\u001b[0;34m(\u001b[0m\u001b[0mimages\u001b[0m\u001b[0;34m)\u001b[0m\u001b[0;34m\u001b[0m\u001b[0;34m\u001b[0m\u001b[0m\n\u001b[0m\u001b[1;32m     19\u001b[0m \u001b[0;34m\u001b[0m\u001b[0m\n\u001b[1;32m     20\u001b[0m         \u001b[0;31m# Calculate the loss\u001b[0m\u001b[0;34m\u001b[0m\u001b[0;34m\u001b[0m\u001b[0m\n",
            "\u001b[0;32m/usr/local/lib/python3.10/dist-packages/torch/nn/modules/module.py\u001b[0m in \u001b[0;36m_wrapped_call_impl\u001b[0;34m(self, *args, **kwargs)\u001b[0m\n\u001b[1;32m   1516\u001b[0m             \u001b[0;32mreturn\u001b[0m \u001b[0mself\u001b[0m\u001b[0;34m.\u001b[0m\u001b[0m_compiled_call_impl\u001b[0m\u001b[0;34m(\u001b[0m\u001b[0;34m*\u001b[0m\u001b[0margs\u001b[0m\u001b[0;34m,\u001b[0m \u001b[0;34m**\u001b[0m\u001b[0mkwargs\u001b[0m\u001b[0;34m)\u001b[0m  \u001b[0;31m# type: ignore[misc]\u001b[0m\u001b[0;34m\u001b[0m\u001b[0;34m\u001b[0m\u001b[0m\n\u001b[1;32m   1517\u001b[0m         \u001b[0;32melse\u001b[0m\u001b[0;34m:\u001b[0m\u001b[0;34m\u001b[0m\u001b[0;34m\u001b[0m\u001b[0m\n\u001b[0;32m-> 1518\u001b[0;31m             \u001b[0;32mreturn\u001b[0m \u001b[0mself\u001b[0m\u001b[0;34m.\u001b[0m\u001b[0m_call_impl\u001b[0m\u001b[0;34m(\u001b[0m\u001b[0;34m*\u001b[0m\u001b[0margs\u001b[0m\u001b[0;34m,\u001b[0m \u001b[0;34m**\u001b[0m\u001b[0mkwargs\u001b[0m\u001b[0;34m)\u001b[0m\u001b[0;34m\u001b[0m\u001b[0;34m\u001b[0m\u001b[0m\n\u001b[0m\u001b[1;32m   1519\u001b[0m \u001b[0;34m\u001b[0m\u001b[0m\n\u001b[1;32m   1520\u001b[0m     \u001b[0;32mdef\u001b[0m \u001b[0m_call_impl\u001b[0m\u001b[0;34m(\u001b[0m\u001b[0mself\u001b[0m\u001b[0;34m,\u001b[0m \u001b[0;34m*\u001b[0m\u001b[0margs\u001b[0m\u001b[0;34m,\u001b[0m \u001b[0;34m**\u001b[0m\u001b[0mkwargs\u001b[0m\u001b[0;34m)\u001b[0m\u001b[0;34m:\u001b[0m\u001b[0;34m\u001b[0m\u001b[0;34m\u001b[0m\u001b[0m\n",
            "\u001b[0;32m/usr/local/lib/python3.10/dist-packages/torch/nn/modules/module.py\u001b[0m in \u001b[0;36m_call_impl\u001b[0;34m(self, *args, **kwargs)\u001b[0m\n\u001b[1;32m   1525\u001b[0m                 \u001b[0;32mor\u001b[0m \u001b[0m_global_backward_pre_hooks\u001b[0m \u001b[0;32mor\u001b[0m \u001b[0m_global_backward_hooks\u001b[0m\u001b[0;34m\u001b[0m\u001b[0;34m\u001b[0m\u001b[0m\n\u001b[1;32m   1526\u001b[0m                 or _global_forward_hooks or _global_forward_pre_hooks):\n\u001b[0;32m-> 1527\u001b[0;31m             \u001b[0;32mreturn\u001b[0m \u001b[0mforward_call\u001b[0m\u001b[0;34m(\u001b[0m\u001b[0;34m*\u001b[0m\u001b[0margs\u001b[0m\u001b[0;34m,\u001b[0m \u001b[0;34m**\u001b[0m\u001b[0mkwargs\u001b[0m\u001b[0;34m)\u001b[0m\u001b[0;34m\u001b[0m\u001b[0;34m\u001b[0m\u001b[0m\n\u001b[0m\u001b[1;32m   1528\u001b[0m \u001b[0;34m\u001b[0m\u001b[0m\n\u001b[1;32m   1529\u001b[0m         \u001b[0;32mtry\u001b[0m\u001b[0;34m:\u001b[0m\u001b[0;34m\u001b[0m\u001b[0;34m\u001b[0m\u001b[0m\n",
            "\u001b[0;32m<ipython-input-22-fc1b48d8e9c8>\u001b[0m in \u001b[0;36mforward\u001b[0;34m(self, x)\u001b[0m\n\u001b[1;32m     47\u001b[0m \u001b[0;34m\u001b[0m\u001b[0m\n\u001b[1;32m     48\u001b[0m         \u001b[0;31m# Perform segmentation using the SegFormer segmentation head.\u001b[0m\u001b[0;34m\u001b[0m\u001b[0;34m\u001b[0m\u001b[0m\n\u001b[0;32m---> 49\u001b[0;31m         \u001b[0msegmentation\u001b[0m \u001b[0;34m=\u001b[0m \u001b[0mself\u001b[0m\u001b[0;34m.\u001b[0m\u001b[0mhead\u001b[0m\u001b[0;34m(\u001b[0m\u001b[0mfeatures\u001b[0m\u001b[0;34m)\u001b[0m\u001b[0;34m\u001b[0m\u001b[0;34m\u001b[0m\u001b[0m\n\u001b[0m\u001b[1;32m     50\u001b[0m \u001b[0;34m\u001b[0m\u001b[0m\n\u001b[1;32m     51\u001b[0m         \u001b[0;32mreturn\u001b[0m \u001b[0msegmentation\u001b[0m\u001b[0;34m\u001b[0m\u001b[0;34m\u001b[0m\u001b[0m\n",
            "\u001b[0;32m/usr/local/lib/python3.10/dist-packages/torch/nn/modules/module.py\u001b[0m in \u001b[0;36m_wrapped_call_impl\u001b[0;34m(self, *args, **kwargs)\u001b[0m\n\u001b[1;32m   1516\u001b[0m             \u001b[0;32mreturn\u001b[0m \u001b[0mself\u001b[0m\u001b[0;34m.\u001b[0m\u001b[0m_compiled_call_impl\u001b[0m\u001b[0;34m(\u001b[0m\u001b[0;34m*\u001b[0m\u001b[0margs\u001b[0m\u001b[0;34m,\u001b[0m \u001b[0;34m**\u001b[0m\u001b[0mkwargs\u001b[0m\u001b[0;34m)\u001b[0m  \u001b[0;31m# type: ignore[misc]\u001b[0m\u001b[0;34m\u001b[0m\u001b[0;34m\u001b[0m\u001b[0m\n\u001b[1;32m   1517\u001b[0m         \u001b[0;32melse\u001b[0m\u001b[0;34m:\u001b[0m\u001b[0;34m\u001b[0m\u001b[0;34m\u001b[0m\u001b[0m\n\u001b[0;32m-> 1518\u001b[0;31m             \u001b[0;32mreturn\u001b[0m \u001b[0mself\u001b[0m\u001b[0;34m.\u001b[0m\u001b[0m_call_impl\u001b[0m\u001b[0;34m(\u001b[0m\u001b[0;34m*\u001b[0m\u001b[0margs\u001b[0m\u001b[0;34m,\u001b[0m \u001b[0;34m**\u001b[0m\u001b[0mkwargs\u001b[0m\u001b[0;34m)\u001b[0m\u001b[0;34m\u001b[0m\u001b[0;34m\u001b[0m\u001b[0m\n\u001b[0m\u001b[1;32m   1519\u001b[0m \u001b[0;34m\u001b[0m\u001b[0m\n\u001b[1;32m   1520\u001b[0m     \u001b[0;32mdef\u001b[0m \u001b[0m_call_impl\u001b[0m\u001b[0;34m(\u001b[0m\u001b[0mself\u001b[0m\u001b[0;34m,\u001b[0m \u001b[0;34m*\u001b[0m\u001b[0margs\u001b[0m\u001b[0;34m,\u001b[0m \u001b[0;34m**\u001b[0m\u001b[0mkwargs\u001b[0m\u001b[0;34m)\u001b[0m\u001b[0;34m:\u001b[0m\u001b[0;34m\u001b[0m\u001b[0;34m\u001b[0m\u001b[0m\n",
            "\u001b[0;32m/usr/local/lib/python3.10/dist-packages/torch/nn/modules/module.py\u001b[0m in \u001b[0;36m_call_impl\u001b[0;34m(self, *args, **kwargs)\u001b[0m\n\u001b[1;32m   1525\u001b[0m                 \u001b[0;32mor\u001b[0m \u001b[0m_global_backward_pre_hooks\u001b[0m \u001b[0;32mor\u001b[0m \u001b[0m_global_backward_hooks\u001b[0m\u001b[0;34m\u001b[0m\u001b[0;34m\u001b[0m\u001b[0m\n\u001b[1;32m   1526\u001b[0m                 or _global_forward_hooks or _global_forward_pre_hooks):\n\u001b[0;32m-> 1527\u001b[0;31m             \u001b[0;32mreturn\u001b[0m \u001b[0mforward_call\u001b[0m\u001b[0;34m(\u001b[0m\u001b[0;34m*\u001b[0m\u001b[0margs\u001b[0m\u001b[0;34m,\u001b[0m \u001b[0;34m**\u001b[0m\u001b[0mkwargs\u001b[0m\u001b[0;34m)\u001b[0m\u001b[0;34m\u001b[0m\u001b[0;34m\u001b[0m\u001b[0m\n\u001b[0m\u001b[1;32m   1528\u001b[0m \u001b[0;34m\u001b[0m\u001b[0m\n\u001b[1;32m   1529\u001b[0m         \u001b[0;32mtry\u001b[0m\u001b[0;34m:\u001b[0m\u001b[0;34m\u001b[0m\u001b[0;34m\u001b[0m\u001b[0m\n",
            "\u001b[0;32m<ipython-input-21-3c274d67a799>\u001b[0m in \u001b[0;36mforward\u001b[0;34m(self, features)\u001b[0m\n\u001b[1;32m     16\u001b[0m     \u001b[0;32mdef\u001b[0m \u001b[0mforward\u001b[0m\u001b[0;34m(\u001b[0m\u001b[0mself\u001b[0m\u001b[0;34m,\u001b[0m \u001b[0mfeatures\u001b[0m\u001b[0;34m)\u001b[0m\u001b[0;34m:\u001b[0m\u001b[0;34m\u001b[0m\u001b[0;34m\u001b[0m\u001b[0m\n\u001b[1;32m     17\u001b[0m         \u001b[0;31m# Concatenate the input features along the channel dimension.\u001b[0m\u001b[0;34m\u001b[0m\u001b[0;34m\u001b[0m\u001b[0m\n\u001b[0;32m---> 18\u001b[0;31m         \u001b[0mx\u001b[0m \u001b[0;34m=\u001b[0m \u001b[0mtorch\u001b[0m\u001b[0;34m.\u001b[0m\u001b[0mcat\u001b[0m\u001b[0;34m(\u001b[0m\u001b[0mfeatures\u001b[0m\u001b[0;34m,\u001b[0m \u001b[0mdim\u001b[0m\u001b[0;34m=\u001b[0m\u001b[0;36m1\u001b[0m\u001b[0;34m)\u001b[0m\u001b[0;34m\u001b[0m\u001b[0;34m\u001b[0m\u001b[0m\n\u001b[0m\u001b[1;32m     19\u001b[0m \u001b[0;34m\u001b[0m\u001b[0m\n\u001b[1;32m     20\u001b[0m         \u001b[0;31m# Apply the feature fusion module.\u001b[0m\u001b[0;34m\u001b[0m\u001b[0;34m\u001b[0m\u001b[0m\n",
            "\u001b[0;31mRuntimeError\u001b[0m: Sizes of tensors must match except in dimension 1. Expected size 16 but got size 22 for tensor number 2 in the list."
          ]
        }
      ]
    },
    {
      "cell_type": "code",
      "source": [],
      "metadata": {
        "id": "KWZ7QcsODfQi"
      },
      "execution_count": null,
      "outputs": []
    }
  ]
}